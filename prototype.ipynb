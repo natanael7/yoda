{
 "cells": [
  {
   "cell_type": "code",
   "execution_count": 23,
   "metadata": {},
   "outputs": [],
   "source": [
    "from selenium import webdriver\n",
    "from test_lib import wait_click, wait_write, wait_read, wait_read_all\n",
    "from selenium.webdriver.common.keys import Keys\n",
    "from selenium.webdriver.common.by import By"
   ]
  },
  {
   "cell_type": "code",
   "execution_count": 15,
   "metadata": {},
   "outputs": [],
   "source": [
    "def get_selector_by_datatest(datatest_value, class_name=\"\"):\n",
    "    return f\"{class_name}[data-test='{datatest_value}']\""
   ]
  },
  {
   "cell_type": "code",
   "execution_count": 16,
   "metadata": {},
   "outputs": [],
   "source": [
    "url = 'https://www.lego.com'+\"/en-us\"\n",
    "keyword = \"Yoda\""
   ]
  },
  {
   "cell_type": "code",
   "execution_count": 17,
   "metadata": {},
   "outputs": [],
   "source": [
    "searchBtn_selector=get_selector_by_datatest(\"search-input-button\")\n",
    "grownUpBtn_selector=get_selector_by_datatest(\"age-gate-grown-up-cta\")\n",
    "cookieAcptBtn_selector=get_selector_by_datatest(\"cookie-accept-all\")\n",
    "searchInpt_selector=get_selector_by_datatest(\"search-input\")\n",
    "resultCount_selector=get_selector_by_datatest(\"result-count\")\n",
    "addToCartBtn_selector=get_selector_by_datatest(\"add-to-cart-skroll-cta\")\n",
    "modalCloseBtn_selector=get_selector_by_datatest(\"modal-close\")\n",
    "productLeaf_selector=get_selector_by_datatest(\"product-leaf\")\n",
    "productLeafTitle_selector=get_selector_by_datatest(\"product-leaf-title\")\n",
    "cartBtn_selector = get_selector_by_datatest(\"util-bar-cart\")\n",
    "productTitle_selector = get_selector_by_datatest(\"product-title\")"
   ]
  },
  {
   "cell_type": "code",
   "execution_count": 18,
   "metadata": {},
   "outputs": [],
   "source": [
    "driver = webdriver.Chrome()\n",
    "driver.maximize_window()"
   ]
  },
  {
   "cell_type": "code",
   "execution_count": 19,
   "metadata": {},
   "outputs": [],
   "source": [
    "driver.get(url)"
   ]
  },
  {
   "cell_type": "code",
   "execution_count": 20,
   "metadata": {},
   "outputs": [
    {
     "data": {
      "text/plain": [
       "True"
      ]
     },
     "execution_count": 20,
     "metadata": {},
     "output_type": "execute_result"
    }
   ],
   "source": [
    "wait_click(driver, grownUpBtn_selector)\n",
    "wait_click(driver, cookieAcptBtn_selector)"
   ]
  },
  {
   "cell_type": "code",
   "execution_count": 21,
   "metadata": {},
   "outputs": [
    {
     "data": {
      "text/plain": [
       "True"
      ]
     },
     "execution_count": 21,
     "metadata": {},
     "output_type": "execute_result"
    }
   ],
   "source": [
    "wait_click(driver, searchBtn_selector)"
   ]
  },
  {
   "cell_type": "code",
   "execution_count": 22,
   "metadata": {},
   "outputs": [
    {
     "data": {
      "text/plain": [
       "True"
      ]
     },
     "execution_count": 22,
     "metadata": {},
     "output_type": "execute_result"
    }
   ],
   "source": [
    "wait_write(driver, searchInpt_selector, keyword)\n",
    "wait_write(driver, searchInpt_selector, Keys.ENTER)"
   ]
  },
  {
   "cell_type": "code",
   "execution_count": 10,
   "metadata": {},
   "outputs": [],
   "source": [
    "listingSummary_selector = get_selector_by_datatest(\"listing-summary\")+\" span span\"\n",
    "search_result_title = wait_read(driver, listingSummary_selector)\n",
    "assert keyword == search_result_title\n",
    "number_of_results_element = driver.find_element(By.CSS_SELECTOR, resultCount_selector)\n",
    "numebr_of_results = int(number_of_results_element.get_attribute(\"data-value\"))\n",
    "assert numebr_of_results > 2"
   ]
  },
  {
   "cell_type": "code",
   "execution_count": 11,
   "metadata": {},
   "outputs": [
    {
     "data": {
      "text/plain": [
       "True"
      ]
     },
     "execution_count": 11,
     "metadata": {},
     "output_type": "execute_result"
    }
   ],
   "source": [
    "wait_click(driver, addToCartBtn_selector)\n",
    "wait_click(driver, modalCloseBtn_selector)"
   ]
  },
  {
   "cell_type": "code",
   "execution_count": 12,
   "metadata": {},
   "outputs": [],
   "source": [
    "product_leaf = driver.find_element(By.CSS_SELECTOR, productLeaf_selector)\n",
    "product_title = wait_read(product_leaf, productLeafTitle_selector)"
   ]
  },
  {
   "cell_type": "code",
   "execution_count": 13,
   "metadata": {},
   "outputs": [
    {
     "data": {
      "text/plain": [
       "True"
      ]
     },
     "execution_count": 13,
     "metadata": {},
     "output_type": "execute_result"
    }
   ],
   "source": [
    "wait_click(driver,cartBtn_selector)\n",
    "cart_product_title = wait_read(driver, productTitle_selector)\n",
    "cart_product_title == product_title"
   ]
  },
  {
   "cell_type": "code",
   "execution_count": 32,
   "metadata": {},
   "outputs": [],
   "source": [
    "title_list = wait_read_all(driver, productLeafTitle_selector)\n",
    "contains_yoda = ['yoda' in item.lower() for item in title_list]"
   ]
  },
  {
   "cell_type": "code",
   "execution_count": 36,
   "metadata": {},
   "outputs": [
    {
     "data": {
      "text/plain": [
       "'3 out of 24 search result contain yoda in the title'"
      ]
     },
     "execution_count": 36,
     "metadata": {},
     "output_type": "execute_result"
    }
   ],
   "source": [
    "str(contains_yoda.count(1)) + \" out of \" + str(len(contains_yoda)) + \" search result contain yoda in the title\"\n"
   ]
  }
 ],
 "metadata": {
  "kernelspec": {
   "display_name": "Python 3",
   "language": "python",
   "name": "python3"
  },
  "language_info": {
   "codemirror_mode": {
    "name": "ipython",
    "version": 3
   },
   "file_extension": ".py",
   "mimetype": "text/x-python",
   "name": "python",
   "nbconvert_exporter": "python",
   "pygments_lexer": "ipython3",
   "version": "3.11.2"
  },
  "orig_nbformat": 4
 },
 "nbformat": 4,
 "nbformat_minor": 2
}
